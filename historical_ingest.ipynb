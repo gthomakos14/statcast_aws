{
 "cells": [
  {
   "cell_type": "code",
   "execution_count": 5,
   "id": "59b7fad7",
   "metadata": {},
   "outputs": [],
   "source": [
    "import pybaseball\n",
    "import polars as pl\n",
    "import boto3\n",
    "import datetime as dt\n",
    "import pandas as pd"
   ]
  },
  {
   "cell_type": "code",
   "execution_count": 2,
   "id": "974eb712",
   "metadata": {},
   "outputs": [],
   "source": [
    "start_dates = pl.date_range(start=dt.date(2024, 2, 15),\n",
    "                            end=dt.date(2024, 11, 30), \n",
    "                            interval='1w',\n",
    "                            eager=True)"
   ]
  },
  {
   "cell_type": "code",
   "execution_count": null,
   "id": "c82c2dd3",
   "metadata": {},
   "outputs": [],
   "source": [
    "dates = pl.DataFrame({'start_date': pl.date_range(dt.date(2024, 2, 15),\n",
    "                                                  dt.date(2024, 11, 30),\n",
    "                                                  interval='1w',\n",
    "                                                  eager=True)})\n",
    "dates = dates.with_columns(\n",
    "    pl.col('start_date').dt.offset_by('1w').alias('end_date')\n",
    ")\n",
    "\n",
    "# I know iter_rows is unwise. But this is only about 40 entries.\n",
    "frames_list = [pybaseball.statcast(start_dt=str(i[0]),\n",
    "                                   end_dt=str(i[1]),\n",
    "                                   verbose=False) for i in dates.iter_rows()]\n",
    "frames_list = [i for i in frames_list if i.shape[0] != 0]"
   ]
  },
  {
   "cell_type": "code",
   "execution_count": 12,
   "id": "87a99193",
   "metadata": {},
   "outputs": [
    {
     "name": "stdout",
     "output_type": "stream",
     "text": [
      "Done\n"
     ]
    }
   ],
   "source": [
    "df_big = pl.from_pandas(pd.concat(frames_list))"
   ]
  },
  {
   "cell_type": "code",
   "execution_count": null,
   "id": "cdf6e359",
   "metadata": {},
   "outputs": [],
   "source": []
  }
 ],
 "metadata": {
  "kernelspec": {
   "display_name": "Python 3 (ipykernel)",
   "language": "python",
   "name": "python3"
  },
  "language_info": {
   "codemirror_mode": {
    "name": "ipython",
    "version": 3
   },
   "file_extension": ".py",
   "mimetype": "text/x-python",
   "name": "python",
   "nbconvert_exporter": "python",
   "pygments_lexer": "ipython3",
   "version": "3.11.5"
  }
 },
 "nbformat": 4,
 "nbformat_minor": 5
}
