{
 "cells": [
  {
   "cell_type": "code",
   "execution_count": 24,
   "id": "1db8cb40",
   "metadata": {},
   "outputs": [],
   "source": [
    "import pybaseball\n",
    "import polars as pl\n",
    "import boto3\n",
    "import s3fs\n",
    "import datetime as dt\n",
    "import pandas as pd\n",
    "import api_handler"
   ]
  },
  {
   "cell_type": "code",
   "execution_count": 2,
   "id": "924fbff2",
   "metadata": {},
   "outputs": [],
   "source": [
    "start_dates = pl.date_range(start=dt.date(2024, 2, 15),\n",
    "                            end=dt.date(2024, 11, 30), \n",
    "                            interval='1w',\n",
    "                            eager=True)"
   ]
  },
  {
   "cell_type": "code",
   "execution_count": null,
   "id": "5663b26d",
   "metadata": {
    "scrolled": true
   },
   "outputs": [],
   "source": [
    "dates = pl.DataFrame({'start_date': pl.date_range(dt.date(2024, 2, 15),\n",
    "                                                  dt.date(2024, 11, 30),\n",
    "                                                  interval='1w',\n",
    "                                                  eager=True)})\n",
    "dates = dates.with_columns(\n",
    "    pl.col('start_date').dt.offset_by('1w').alias('end_date')\n",
    ")\n",
    "\n",
    "# I know iter_rows is unwise. But this is only about 40 entries.\n",
    "frames_list = [pybaseball.statcast(start_dt=str(i[0]),\n",
    "                                   end_dt=str(i[1]),\n",
    "                                   verbose=False) for i in dates.iter_rows()]\n",
    "frames_list = [i for i in frames_list if i.shape[0] != 0]"
   ]
  },
  {
   "cell_type": "code",
   "execution_count": 6,
   "id": "e0db2fde",
   "metadata": {},
   "outputs": [],
   "source": [
    "df_big = pl.from_pandas(pd.concat(frames_list))"
   ]
  },
  {
   "cell_type": "code",
   "execution_count": 9,
   "id": "72044f28",
   "metadata": {},
   "outputs": [],
   "source": [
    "unique_months = df_big['game_date'].dt.strftime('%B').unique()\n",
    "month_dict = {k: df_big.filter(\n",
    "    pl.col('game_date').dt.strftime('%B') == k) for k in unique_months}"
   ]
  },
  {
   "cell_type": "code",
   "execution_count": 16,
   "id": "bc2ccbbb",
   "metadata": {},
   "outputs": [
    {
     "name": "stderr",
     "output_type": "stream",
     "text": [
      "/tmp/ipykernel_9422/2235613981.py:9: UserWarning: Polars found a filename. Ensure you pass a path to the file instead of a python file object when possible for best performance.\n",
      "  df_current.write_parquet(output)\n"
     ]
    },
    {
     "name": "stdout",
     "output_type": "stream",
     "text": [
      "Done with August\n",
      "Done with July\n",
      "Done with March\n",
      "Skipping over September\n",
      "Done with May\n",
      "Done with April\n",
      "Done with June\n"
     ]
    }
   ],
   "source": [
    "fs = s3fs.S3FileSystem()\n",
    "for key in month_dict:\n",
    "    if key == 'September':\n",
    "        print('Skipping over September')\n",
    "        continue\n",
    "    df_current = month_dict[key]\n",
    "    destination = f's3://gthomakos14-statcast/2024/{key}.parquet'\n",
    "    with fs.open(destination, mode='wb') as output:\n",
    "        df_current.write_parquet(output)\n",
    "    print(f'Done with {key}')"
   ]
  },
  {
   "cell_type": "code",
   "execution_count": 25,
   "id": "64345b87",
   "metadata": {},
   "outputs": [
    {
     "data": {
      "text/plain": [
       "polars.dataframe.frame.DataFrame"
      ]
     },
     "execution_count": 25,
     "metadata": {},
     "output_type": "execute_result"
    }
   ],
   "source": [
    "type(df_big)"
   ]
  },
  {
   "cell_type": "code",
   "execution_count": null,
   "id": "fcbd22a3",
   "metadata": {},
   "outputs": [],
   "source": []
  }
 ],
 "metadata": {
  "kernelspec": {
   "display_name": "Python 3 (ipykernel)",
   "language": "python",
   "name": "python3"
  },
  "language_info": {
   "codemirror_mode": {
    "name": "ipython",
    "version": 3
   },
   "file_extension": ".py",
   "mimetype": "text/x-python",
   "name": "python",
   "nbconvert_exporter": "python",
   "pygments_lexer": "ipython3",
   "version": "3.11.5"
  }
 },
 "nbformat": 4,
 "nbformat_minor": 5
}
