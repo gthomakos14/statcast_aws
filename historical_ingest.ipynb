{
 "cells": [
  {
   "cell_type": "code",
   "execution_count": 5,
   "id": "1db8cb40",
   "metadata": {},
   "outputs": [],
   "source": [
    "import pybaseball\n",
    "import polars as pl\n",
    "import boto3\n",
    "import datetime as dt\n",
    "import pandas as pd"
   ]
  },
  {
   "cell_type": "code",
   "execution_count": 2,
   "id": "924fbff2",
   "metadata": {},
   "outputs": [],
   "source": [
    "start_dates = pl.date_range(start=dt.date(2024, 2, 15),\n",
    "                            end=dt.date(2024, 11, 30), \n",
    "                            interval='1w',\n",
    "                            eager=True)"
   ]
  },
  {
   "cell_type": "code",
   "execution_count": null,
   "id": "5663b26d",
   "metadata": {},
   "outputs": [],
   "source": [
    "dates = pl.DataFrame({'start_date': pl.date_range(dt.date(2024, 2, 15),\n",
    "                                                  dt.date(2024, 11, 30),\n",
    "                                                  interval='1w',\n",
    "                                                  eager=True)})\n",
    "dates = dates.with_columns(\n",
    "    pl.col('start_date').dt.offset_by('1w').alias('end_date')\n",
    ")\n",
    "\n",
    "# I know iter_rows is unwise. But this is only about 40 entries.\n",
    "frames_list = [pybaseball.statcast(start_dt=str(i[0]),\n",
    "                                   end_dt=str(i[1]),\n",
    "                                   verbose=False) for i in dates.iter_rows()]\n",
    "frames_list = [i for i in frames_list if i.shape[0] != 0]"
   ]
  },
  {
   "cell_type": "code",
   "execution_count": 13,
   "id": "e0db2fde",
   "metadata": {},
   "outputs": [],
   "source": [
    "df_big = pl.from_pandas(pd.concat(frames_list))"
   ]
  },
  {
   "cell_type": "code",
   "execution_count": 24,
   "id": "72044f28",
   "metadata": {},
   "outputs": [],
   "source": [
    "unique_months = df_big['game_date'].dt.month().unique()\n",
    "month_dict = {k: df_big.filter(\n",
    "    pl.col('game_date').dt.month() == k) for k in unique_months}"
   ]
  },
  {
   "cell_type": "code",
   "execution_count": null,
   "id": "aeb26f90",
   "metadata": {},
   "outputs": [],
   "source": [
    "# TODO: Put each month's data into s3"
   ]
  }
 ],
 "metadata": {
  "kernelspec": {
   "display_name": "Python 3 (ipykernel)",
   "language": "python",
   "name": "python3"
  },
  "language_info": {
   "codemirror_mode": {
    "name": "ipython",
    "version": 3
   },
   "file_extension": ".py",
   "mimetype": "text/x-python",
   "name": "python",
   "nbconvert_exporter": "python",
   "pygments_lexer": "ipython3",
   "version": "3.11.5"
  }
 },
 "nbformat": 4,
 "nbformat_minor": 5
}
